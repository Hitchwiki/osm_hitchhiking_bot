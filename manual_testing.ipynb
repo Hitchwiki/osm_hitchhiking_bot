{
 "cells": [
  {
   "cell_type": "code",
   "execution_count": null,
   "id": "986b27a2",
   "metadata": {},
   "outputs": [],
   "source": [
    "import json\n",
    "\n",
    "from osm_bot_abstraction_layer.overpass_downloader import download_overpass_query\n",
    "import osm_bot_abstraction_layer.osm_bot_abstraction_layer as osm_bot_abstraction_layer\n",
    "from osm_bot_abstraction_layer.generic_bot_retagging import run_simple_retagging_task"
   ]
  },
  {
   "cell_type": "markdown",
   "id": "334c5248",
   "metadata": {},
   "source": [
    "# Checking OSM data befor the edit"
   ]
  },
  {
   "cell_type": "code",
   "execution_count": null,
   "id": "11a45a6c",
   "metadata": {},
   "outputs": [],
   "source": [
    "amentiy_hitchhiking_bench_download = \"\"\"\n",
    "/*\n",
    "\n",
    "*/\n",
    "[out:json][timeout:25];\n",
    "// gather results\n",
    "nwr[\"amenity\"=\"hitchhiking_bench\"];\n",
    "// print results\n",
    "out geom;\n",
    "\"\"\"\n",
    "\n",
    "file_path = './tmp/amentity_hitchhiking_bench.osm'\n",
    "download_overpass_query(amentiy_hitchhiking_bench_download, file_path)"
   ]
  },
  {
   "cell_type": "code",
   "execution_count": null,
   "id": "4ee50b50",
   "metadata": {},
   "outputs": [],
   "source": [
    "with open(file_path, 'r') as file:\n",
    "    data = json.load(file)\n",
    "\n",
    "    print(len(data['elements']), \"elements\")"
   ]
  },
  {
   "cell_type": "code",
   "execution_count": null,
   "id": "80f234a1",
   "metadata": {},
   "outputs": [],
   "source": [
    "for element in data['elements']:\n",
    "    type = element['type']\n",
    "    id = element['id']\n",
    "\n",
    "    # Get the data for the current element\n",
    "    print(f\"Downloading data for {type} with id {id}\")\n",
    "    node_json = osm_bot_abstraction_layer.get_data(id, type)\n",
    "    \n",
    "    print(json.dumps(node_json, default=str, indent=4))"
   ]
  },
  {
   "cell_type": "markdown",
   "id": "53fc1d45",
   "metadata": {},
   "source": [
    "# Performing the edit"
   ]
  },
  {
   "cell_type": "code",
   "execution_count": null,
   "id": "83c945ec",
   "metadata": {},
   "outputs": [],
   "source": [
    "def edit_element(tags):\n",
    "    if \"amenity\" not in tags.keys():\n",
    "        tags.pop('highway', None)\n",
    "        tags[\"highway\"] = \"hitchhiking\"\n",
    "    \n",
    "    if \"amenity\" in tags.keys() and tags[\"amenity\"] == \"bench\":\n",
    "        tags.pop('highway', None)\n",
    "        tags.pop('amenity', None)\n",
    "        tags[\"highway\"] = \"hitchhiking\"\n",
    "        tags[\"bench\"] = \"yes\"\n",
    "    \n",
    "    return tags\n",
    "\n",
    "highway_hitchhiking_bench_download = \"\"\"\n",
    "/*\n",
    "\n",
    "*/\n",
    "[out:xml][timeout:25];\n",
    "// gather results\n",
    "nwr[\"highway\"=\"hitchhiking_bench\"];\n",
    "// print results\n",
    "out geom;\n",
    "\"\"\"\n",
    "\n",
    "def main():\n",
    "    run_simple_retagging_task(\n",
    "        max_count_of_elements_in_one_changeset=500,\n",
    "        objects_to_consider_query=highway_hitchhiking_bench_download,\n",
    "        cache_folder_filepath='./cache',\n",
    "        is_in_manual_mode=True,\n",
    "        changeset_comment='Replacing undocumented and redundant hitchhiking=local tag with highway=hitchhiking. Part of the mechanical edit from https://wiki.openstreetmap.org/wiki/Mechanical_Edits/TillWenke/moving_hitchhiking_stops_to_%27highway%3Dhitchhiking%27_(mainly_in_Europe/Germany).',\n",
    "        discussion_url='https://wiki.openstreetmap.org/wiki/Talk:Mechanical_Edits/TillWenke/moving_hitchhiking_stops_to_%27highway%3Dhitchhiking%27_(mainly_in_Europe/Germany)',\n",
    "        osm_wiki_documentation_page='https://wiki.openstreetmap.org/wiki/Mechanical_Edits/TillWenke/moving_hitchhiking_stops_to_%27highway%3Dhitchhiking%27_(mainly_in_Europe/Germany)',\n",
    "        edit_element_function=edit_element,\n",
    "    )\n",
    "\n",
    "main()"
   ]
  }
 ],
 "metadata": {
  "kernelspec": {
   "display_name": ".venv",
   "language": "python",
   "name": "python3"
  },
  "language_info": {
   "codemirror_mode": {
    "name": "ipython",
    "version": 3
   },
   "file_extension": ".py",
   "mimetype": "text/x-python",
   "name": "python",
   "nbconvert_exporter": "python",
   "pygments_lexer": "ipython3",
   "version": "3.12.6"
  }
 },
 "nbformat": 4,
 "nbformat_minor": 5
}
